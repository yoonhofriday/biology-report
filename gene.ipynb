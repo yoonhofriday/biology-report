{
  "nbformat": 4,
  "nbformat_minor": 0,
  "metadata": {
    "colab": {
      "name": "gene.ipynb",
      "private_outputs": true,
      "provenance": [],
      "collapsed_sections": []
    },
    "kernelspec": {
      "name": "python3",
      "display_name": "Python 3"
    },
    "language_info": {
      "name": "python"
    }
  },
  "cells": [
    {
      "cell_type": "code",
      "execution_count": null,
      "metadata": {
        "id": "HkRdnjMbuG5I"
      },
      "outputs": [],
      "source": [
        "import numpy\n",
        "import random\n",
        "import string"
      ]
    },
    {
      "cell_type": "code",
      "source": [
        "best_chromosome = [1, 2, 3, 4, 5, 6, 7, 8, 9, 9, 8, 7, 6, 5, 4, 3, 2, 1, 1, 2, 3, 4, 5, 6, 7, 8, 9, 9, 8, 7, 6, 5, 4, 3, 2, 1, 1, 2, 3, 4, 5, 6, 7, 8, 9, 9] #환경 적응에 우수한 염색체\n",
        "\n",
        "chromosome_len = 46 #인간 염색체의 수\n",
        "\n",
        "test = []   \n",
        "\n",
        "def new_chromosome(chromosome_len): #랜덤으로 인간의 염색체 수만큼 랜덤으로 숫자\n",
        "    new = []\n",
        "    for i in range(chromosome_len):\n",
        "        new.append(numpy.random.randint(1,10))\n",
        "    return new\n",
        "\n",
        "def new_gene(size): #유전자 생성 (size 개) \n",
        "    gene = [] \n",
        "    for i in range(size):                       \n",
        "        gene.append(new_chromosome(chromosome_len))         \n",
        "    return gene\n",
        "\n",
        "test = new_gene(size = 100)\n",
        "print(test)"
      ],
      "metadata": {
        "id": "zAbbfj8LudLJ"
      },
      "execution_count": null,
      "outputs": []
    },
    {
      "cell_type": "code",
      "source": [
        "def fitness(best_chromosome, gene):    #맞추고 싶은 염색체와 생성한 염색체의 비슷한 정도를 100점 만점으로 점수 \n",
        "    score = 0\n",
        "    \n",
        "    for i in range(chromosome_len):\n",
        "        if best_chromosome[i] == gene[i]:\n",
        "            score += 1\n",
        "    \n",
        "    score = score * (100/46)\n",
        "    return score\n",
        "\n",
        "sc = fitness(best_chromosome, test[0])\n",
        "print(sc)"
      ],
      "metadata": {
        "id": "5xOldkQ3u5Z7"
      },
      "execution_count": null,
      "outputs": []
    },
    {
      "cell_type": "code",
      "source": [
        "def compute_performace(population, best_chromosome):    #점수를 염색체 오른쪽에 배치 후 내림차순으로 정리\n",
        "    performance_list = []\n",
        "    for individual in population:\n",
        "        score = fitness(best_chromosome, individual)\n",
        "\n",
        "        performance_list.append([individual, score])\n",
        "\n",
        "    population_sorted = sorted(performance_list, key=lambda x: x[1], reverse=True)\n",
        "    return population_sorted\n",
        "\n",
        "perform = compute_performace(test, best_chromosome)\n",
        "print(perform)"
      ],
      "metadata": {
        "id": "J3_C-aTfEMZP"
      },
      "execution_count": null,
      "outputs": []
    },
    {
      "cell_type": "code",
      "source": [
        "def select_survivors(population_sorted, best_sample, lucky_few):    #살아남을 유전자 선택\n",
        "    next_generation = []\n",
        "\n",
        "    for i in range(best_sample):    #\n",
        "        if population_sorted[i][1] > 0:\n",
        "            next_generation.append(population_sorted[i][0])\n",
        "\n",
        "    lucky_survivors = random.sample(population_sorted, k=lucky_few)\n",
        "    for l in lucky_survivors:\n",
        "        next_generation.append(l[0])\n",
        "    \n",
        "    while len(next_generation) < best_sample + lucky_few:\n",
        "        next_generation.append(new_chromosome(length=chromosome_len))\n",
        "\n",
        "    random.shuffle(next_generation)\n",
        "    return next_generation\n",
        "\n",
        "test_sorted = compute_performace(test, best_chromosome)\n",
        "survivors = select_survivors(test_sorted, best_sample=20, lucky_few=20)\n",
        "\n",
        "print(survivors)"
      ],
      "metadata": {
        "id": "gtG5iuRcGCWM"
      },
      "execution_count": null,
      "outputs": []
    },
    {
      "cell_type": "code",
      "source": [
        "def create_child(individual1, individual2):\n",
        "    child = [0,0,0,0,0,0,0,0,0,0,0,0,0,0,0,0,0,0,0,0,0,0,0,0,0,0,0,0,0,0,0,0,0,0,0,0,0,0,0,0,0,0,0,0,0,0]\n",
        "    for i in range(chromosome_len):\n",
        "        if (int(100 * random.random()) < 50):\n",
        "            child[i] = individual1[i]\n",
        "        else:\n",
        "            child[i] = individual2[i]\n",
        "    return child\n",
        "\n",
        "def create_children(parents, n_child):\n",
        "    next_population = []\n",
        "    for i in range(int(len(parents)/2)):\n",
        "        for j in range(n_child):\n",
        "            next_population.append(create_child(parents[i], parents[i + 1]))\n",
        "    return next_population\n",
        "\n",
        "children = create_children(survivors, 5)\n",
        "print(children)"
      ],
      "metadata": {
        "id": "RvWKXF48Hyy6"
      },
      "execution_count": null,
      "outputs": []
    },
    {
      "cell_type": "code",
      "source": [
        "def mutate_word(word):\n",
        "    word = numpy.random.randint(1,10)\n",
        "    return word\n",
        "\n",
        "def mutate_population(population, chance_of_mutation):\n",
        "    for i in range(len(population)):\n",
        "        for j in range(chromosome_len):\n",
        "            if random.random() * 100 < chance_of_mutation:\n",
        "                population[i][j] = mutate_word(population[i][j])    \n",
        "    return population\n",
        "\n",
        "new_generation = mutate_population(population=children, chance_of_mutation=10)\n",
        "\n",
        "print(new_generation)"
      ],
      "metadata": {
        "id": "olylNYTpNxYz"
      },
      "execution_count": null,
      "outputs": []
    },
    {
      "cell_type": "code",
      "source": [
        "best_chromosome =[1, 2, 3, 4, 5, 6, 7, 8, 9, 9, 8, 7, 6, 5, 4, 3, 2, 1, 1, 2, 3, 4, 5, 6, 7, 8, 9, 9, 8, 7, 6, 5, 4, 3, 2, 1, 1, 2, 3, 4, 5, 6, 7, 8, 9, 9] #찾고 싶은 \n",
        "\n",
        "n_generation = 100\n",
        "population = 100\n",
        "best_sample = 40\n",
        "lucky_few = 0\n",
        "n_child = 5\n",
        "chance_of_mutation = 5\n",
        "best_generation = 0\n",
        "best_generation_num = 0\n",
        "\n",
        "pop = new_gene(size=population)\n",
        "\n",
        "for g in range(n_generation):\n",
        "    pop_sorted = compute_performace(pop, best_chromosome)\n",
        "\n",
        "    if (pop_sorted[0][1]) == 100:\n",
        "        print('SUCCESS! The password is %s' % (pop_sorted[0][0]))\n",
        "        break\n",
        "    \n",
        "    survivors = select_survivors(population_sorted=pop_sorted, best_sample=best_sample, lucky_few=lucky_few)\n",
        "    \n",
        "    children = create_children(parents=survivors, n_child=n_child)\n",
        "\n",
        "    new_generation = mutate_population(population=children, chance_of_mutation=10)\n",
        "    \n",
        "    pop = new_generation\n",
        "    \n",
        "    if best_generation < pop_sorted[0][1]:\n",
        "        best_generation = pop_sorted[0][1]\n",
        "        best_generation_num = g\n",
        "\n",
        "\n",
        "    print('===== %sth Generation =====' % (g + 1))\n",
        "    print(pop_sorted[0])\n",
        "\n",
        "print(best_generation, best_generation_num)"
      ],
      "metadata": {
        "id": "FoWpr3c8t_1U"
      },
      "execution_count": null,
      "outputs": []
    }
  ]
}